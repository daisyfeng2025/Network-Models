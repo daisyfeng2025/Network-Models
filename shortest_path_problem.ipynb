{
  "nbformat": 4,
  "nbformat_minor": 0,
  "metadata": {
    "colab": {
      "provenance": []
    },
    "kernelspec": {
      "name": "python3",
      "display_name": "Python 3"
    },
    "language_info": {
      "name": "python"
    }
  },
  "cells": [
    {
      "cell_type": "code",
      "execution_count": 1,
      "metadata": {
        "colab": {
          "base_uri": "https://localhost:8080/"
        },
        "id": "ygeFEiKw3lEm",
        "outputId": "94ea0d80-27e6-441f-b9cc-e77fb5ba4dd2"
      },
      "outputs": [
        {
          "output_type": "stream",
          "name": "stdout",
          "text": [
            "Shortest path: Origin -> A -> B -> D -> Destination\n",
            "Total distance: 165 miles\n"
          ]
        }
      ],
      "source": [
        "import heapq\n",
        "\n",
        "# Define the graph: nodes represent towns, edges represent roads with distances\n",
        "graph = {\n",
        "    'Origin': {'A': 40, 'B': 60, 'C': 50},\n",
        "    'A': {'B': 10, 'D': 70},\n",
        "    'B': {'C': 20, 'D': 55, 'E': 40},\n",
        "    'C': {'E': 50},\n",
        "    'D': {'Destination': 60},\n",
        "    'E': {'Destination': 80},\n",
        "    'Destination': {}\n",
        "}\n",
        "\n",
        "def dijkstra(graph, start, end):\n",
        "    # Initialize distances: set all nodes to infinity except the start node\n",
        "    shortest_distances = {node: float('inf') for node in graph}\n",
        "    shortest_distances[start] = 0\n",
        "\n",
        "    # Initialize predecessors: to reconstruct the shortest path later\n",
        "    previous_nodes = {node: None for node in graph}\n",
        "\n",
        "    # Create a priority queue and add the start node with distance 0\n",
        "    priority_queue = [(0, start)]\n",
        "\n",
        "    while priority_queue:\n",
        "        # Pop the node with the smallest distance\n",
        "        current_distance, current_node = heapq.heappop(priority_queue)\n",
        "\n",
        "        # If we reached the destination node, we can stop\n",
        "        if current_node == end:\n",
        "            break\n",
        "\n",
        "        # Explore all neighbors of the current node\n",
        "        for neighbor, weight in graph[current_node].items():\n",
        "            distance = current_distance + weight\n",
        "            # If a shorter path to the neighbor is found\n",
        "            if distance < shortest_distances[neighbor]:\n",
        "                shortest_distances[neighbor] = distance\n",
        "                previous_nodes[neighbor] = current_node\n",
        "                heapq.heappush(priority_queue, (distance, neighbor))\n",
        "\n",
        "    # Reconstruct the shortest path by tracing predecessors\n",
        "    path = []\n",
        "    current = end\n",
        "    while current is not None:\n",
        "        path.insert(0, current)\n",
        "        current = previous_nodes[current]\n",
        "\n",
        "    return path, shortest_distances[end]\n",
        "\n",
        "# Call the function to find the shortest path from Origin to Destination\n",
        "shortest_path, total_distance = dijkstra(graph, 'Origin', 'Destination')\n",
        "\n",
        "# Print the results\n",
        "print(\"Shortest path:\", \" -> \".join(shortest_path))\n",
        "print(\"Total distance:\", total_distance, \"miles\")"
      ]
    }
  ]
}